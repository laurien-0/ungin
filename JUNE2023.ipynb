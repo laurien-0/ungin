{
 "cells": [
  {
   "cell_type": "markdown",
   "metadata": {},
   "source": [
    "# Yersinia phage Phi R1-37"
   ]
  },
  {
   "cell_type": "markdown",
   "metadata": {},
   "source": [
    "Stages of analysis are presented as were performed with the Yersinia phage"
   ]
  },
  {
   "cell_type": "code",
   "execution_count": 1,
   "metadata": {},
   "outputs": [],
   "source": [
    "#required imports\n",
    "import os\n",
    "import pathlib\n",
    "import re\n",
    "\n",
    "import numpy as np\n",
    "import pandas as pd\n",
    "\n",
    "import Bio.SeqIO as SeqIO\n",
    "import Bio.SeqUtils.ProtParam as bp\n",
    "\n",
    "import matplotlib.pyplot as plt\n",
    "import seaborn as sns\n",
    "\n",
    "import ungin_functions as ung"
   ]
  },
  {
   "cell_type": "code",
   "execution_count": 2,
   "metadata": {},
   "outputs": [],
   "source": [
    "os.chdir(\"/d/user6/tl003/thesis\")"
   ]
  },
  {
   "cell_type": "code",
   "execution_count": 4,
   "metadata": {},
   "outputs": [
    {
     "name": "stdout",
     "output_type": "stream",
     "text": [
      "       ID                                           Sequence  Seq Length\n",
      "0    g001  MKKNVCVITERDVVLAKRRKGCKLQTDVDVALTEMNNIRFDFRVII...          90\n",
      "1    g002  MKILKATNPRWFAQSNSTFSKFAIRGATEVLSDWMDNAFSAFCQLY...          83\n",
      "2    g003  MYITRRKKRFNTTVYYNIYLVPGKMLTVRDKNIYSVYKIFEKELDF...          82\n",
      "3    g004  MKTIKARGFNKNKILDLTPIKETRRSAMDTLMRRILFIEVDISNHM...          72\n",
      "4    g005  MKIVRISRKKDRDIGRLIIGHIFATYKELKGTLLFRYDYIGYKCKV...          62\n",
      "..    ...                                                ...         ...\n",
      "362  g363  MKTIRTIKHLPFDRYNEQMTKTFLLDQPISKIFMIRKDAEDFDNEN...          84\n",
      "363  g364  MYISRTNEREMNFKRKSNPKTVREIYTNLLHDDFSLPKYKMYFGFE...          97\n",
      "364  g365  MKALSIIDDEEREGSIRDYDYKILEPINEILEDLEEEIMISGIGVT...          75\n",
      "365  g366  MRRLKGKVVGIDNLLRWDRQWGGRMWLEGSAFNDYDVLFKDTVLEF...          74\n",
      "366  g367  MKIKKFKMKYEYVYHDWLQQNAEEIIWGYQLIKIDPRHFSDIKVEI...          61\n",
      "\n",
      "[367 rows x 3 columns]\n"
     ]
    }
   ],
   "source": [
    "#storing proteomes of uracil-DNA phages\n",
    "genome = \"phages/phir1-37.gb\"\n",
    "df = ung.parse_uracil_genome(genome=genome)\n",
    "print(df)"
   ]
  },
  {
   "cell_type": "code",
   "execution_count": 4,
   "metadata": {},
   "outputs": [],
   "source": [
    "#generating fasta file storing all sequences\n",
    "ung.write_df_to_fasta(df=df, output_file=\"uploads/all_seqs.fasta\")"
   ]
  },
  {
   "cell_type": "code",
   "execution_count": 11,
   "metadata": {},
   "outputs": [
    {
     "name": "stdout",
     "output_type": "stream",
     "text": [
      "       ID  BLAST_evalues  BLAST_seqids\n",
      "48   g049   1.000000e-29         37.56\n",
      "130  g131   3.000000e-06         39.44\n",
      "141  g142   2.000000e-10         39.56\n",
      "193  g194   3.000000e-60         35.03\n",
      "212  g213   5.000000e-25         41.36\n",
      "260  g261  4.000000e-105         36.76\n",
      "273  g274   5.000000e-58         36.54\n",
      "297  g298   4.000000e-10         43.24\n",
      "308  g309   9.000000e-09         43.48\n",
      "310  g311   2.000000e-50         37.60\n",
      "326  g327   1.000000e-10         43.06\n"
     ]
    }
   ],
   "source": [
    "#BLAST search performed with PDB blastp to identify any proteins with close homologs\n",
    "#parsing BLAST output\n",
    "df_blasthits = ung.parse_blast_output(df=df, input_file=\"uploads/blast_output.txt\")\n",
    "print(df_blasthits)"
   ]
  },
  {
   "cell_type": "markdown",
   "metadata": {},
   "source": [
    "## Structure prediction: confidence filter"
   ]
  },
  {
   "cell_type": "code",
   "execution_count": null,
   "metadata": {},
   "outputs": [],
   "source": [
    "#monomer prediction using esm_fold\n",
    "#note that only 363 out of 367 were able to be analysed\n",
    "#those missing are g083, g099, g294, g295"
   ]
  },
  {
   "cell_type": "code",
   "execution_count": 4,
   "metadata": {},
   "outputs": [],
   "source": [
    "#complex prediction using esm_fold\n",
    "#generating required fasta files\n",
    "with open('uploads/all_seqs.fasta','r') as f:\n",
    "    scraped_text = f.readlines()\n",
    "i = 0\n",
    "with open('uploads/ye_mult.fasta',\"w\") as g:\n",
    "    with open('uploads/hsv1_mult.fasta',\"w\") as h:\n",
    "        for line in scraped_text:\n",
    "            if i % 2 == 0:\n",
    "                g.write(line)\n",
    "                h.write(line)\n",
    "            else:\n",
    "                g.write(f'MPASLTWHDVIGQEKEQPYFKDTLAYVAAERNAGKTIYPAQHDVFNAFRLTELDQVKVVILGQDPYHGPNQAHGLSFSVLPGVPAPPSLVNIYKELATDIPGFQRPNHGFLQSWAEQGVLLLNTVLTVEAGNAHSHANLGWETFTDKVIAALNEHRDGVIFMLWGAHAQKKGRIIDTQRHFILKAPHPSPLSAHRGFLGCKHFSQANQLLQQHGQQPIDWQPKLPTAE:{line}')\n",
    "                h.write(f'MDLTNGGVSPAATSAPLDWTTFRRVFLIDDAWRPLMEPELANPLTAHLLAEYNRRCQTEEVLPPREDVFSWTRYCTPDEVRVVIIGQDPYHHPGQAHGLAFSVRANVPPPPSLRNVLAAVKNCYPEARMSGHGCLEKWARDGVLLLNTTLTVKRGAAASHSRIGWDRFVGGVIRRLAARRPGLVFMLWGTHAQNAIRPDPRVHCVLKFSHPSPLSKVPFGTCQHFLVANRYLETRSISPIDWSV:{line}')\n",
    "            i+=1\n",
    "#note that only 356 out of 367 were able to be analysed due to lack of available memory on Colab\n",
    "#those missing were the 4 missing from monomer prediction, also g061, g070, g160, g196, g207, g234 and g296"
   ]
  },
  {
   "cell_type": "code",
   "execution_count": 5,
   "metadata": {},
   "outputs": [
    {
     "name": "stdout",
     "output_type": "stream",
     "text": [
      "       ID                                           Sequence  Seq Length  \\\n",
      "0    g001  MKKNVCVITERDVVLAKRRKGCKLQTDVDVALTEMNNIRFDFRVII...          90   \n",
      "1    g002  MKILKATNPRWFAQSNSTFSKFAIRGATEVLSDWMDNAFSAFCQLY...          83   \n",
      "2    g003  MYITRRKKRFNTTVYYNIYLVPGKMLTVRDKNIYSVYKIFEKELDF...          82   \n",
      "3    g004  MKTIKARGFNKNKILDLTPIKETRRSAMDTLMRRILFIEVDISNHM...          72   \n",
      "4    g005  MKIVRISRKKDRDIGRLIIGHIFATYKELKGTLLFRYDYIGYKCKV...          62   \n",
      "..    ...                                                ...         ...   \n",
      "362  g363  MKTIRTIKHLPFDRYNEQMTKTFLLDQPISKIFMIRKDAEDFDNEN...          84   \n",
      "363  g364  MYISRTNEREMNFKRKSNPKTVREIYTNLLHDDFSLPKYKMYFGFE...          97   \n",
      "364  g365  MKALSIIDDEEREGSIRDYDYKILEPINEILEDLEEEIMISGIGVT...          75   \n",
      "365  g366  MRRLKGKVVGIDNLLRWDRQWGGRMWLEGSAFNDYDVLFKDTVLEF...          74   \n",
      "366  g367  MKIKKFKMKYEYVYHDWLQQNAEEIIWGYQLIKIDPRHFSDIKVEI...          61   \n",
      "\n",
      "     Mean pLDDT: monomer  \n",
      "0              29.472766  \n",
      "1              35.307033  \n",
      "2              40.482642  \n",
      "3              38.999332  \n",
      "4              41.329962  \n",
      "..                   ...  \n",
      "362            29.116841  \n",
      "363            31.088190  \n",
      "364            35.694706  \n",
      "365            33.168126  \n",
      "366            35.540289  \n",
      "\n",
      "[367 rows x 4 columns]\n"
     ]
    }
   ],
   "source": [
    "#first filter = confidence of predicted structure\n",
    "#analysing confidence data output of monomer predictions\n",
    "ung.analyse_confidence(input_dir=\"/d/user6/tl003/thesis/monomer_prediction\", df=df, scale=True, prediction=\"monomer\")\n",
    "os.chdir(\"/d/user6/tl003/thesis\")\n",
    "print(df)"
   ]
  },
  {
   "cell_type": "code",
   "execution_count": 11,
   "metadata": {},
   "outputs": [
    {
     "name": "stdout",
     "output_type": "stream",
     "text": [
      "       ID                                           Sequence  Seq Length  \\\n",
      "0    g001  MKKNVCVITERDVVLAKRRKGCKLQTDVDVALTEMNNIRFDFRVII...          90   \n",
      "1    g002  MKILKATNPRWFAQSNSTFSKFAIRGATEVLSDWMDNAFSAFCQLY...          83   \n",
      "2    g003  MYITRRKKRFNTTVYYNIYLVPGKMLTVRDKNIYSVYKIFEKELDF...          82   \n",
      "3    g004  MKTIKARGFNKNKILDLTPIKETRRSAMDTLMRRILFIEVDISNHM...          72   \n",
      "4    g005  MKIVRISRKKDRDIGRLIIGHIFATYKELKGTLLFRYDYIGYKCKV...          62   \n",
      "..    ...                                                ...         ...   \n",
      "362  g363  MKTIRTIKHLPFDRYNEQMTKTFLLDQPISKIFMIRKDAEDFDNEN...          84   \n",
      "363  g364  MYISRTNEREMNFKRKSNPKTVREIYTNLLHDDFSLPKYKMYFGFE...          97   \n",
      "364  g365  MKALSIIDDEEREGSIRDYDYKILEPINEILEDLEEEIMISGIGVT...          75   \n",
      "365  g366  MRRLKGKVVGIDNLLRWDRQWGGRMWLEGSAFNDYDVLFKDTVLEF...          74   \n",
      "366  g367  MKIKKFKMKYEYVYHDWLQQNAEEIIWGYQLIKIDPRHFSDIKVEI...          61   \n",
      "\n",
      "     Mean pLDDT: monomer  Mean pLDDT: hsv1  ...hsv1 only  ...without hsv1  \n",
      "0              29.472766         72.567981     89.814297        28.374295  \n",
      "1              35.307033         77.073883     92.056570        34.237626  \n",
      "2              40.482642         73.749332     90.250509        29.769018  \n",
      "3              38.999332         69.641599     82.202024        29.234357  \n",
      "4              41.329962         74.032256     83.740877        38.054346  \n",
      "..                   ...               ...           ...              ...  \n",
      "362            29.116841         77.385287     91.724100        39.273710  \n",
      "363            31.088190         67.136276     83.708412        28.333718  \n",
      "364            35.694706         74.906940     86.214458        39.303039  \n",
      "365            33.168126         68.810079     82.512221        26.154136  \n",
      "366            35.540289         72.681787     83.745205        31.604316  \n",
      "\n",
      "[367 rows x 7 columns]\n"
     ]
    }
   ],
   "source": [
    "#analysing confidence data output of hsv1 predictions\n",
    "#may need to be run in batches\n",
    "ung.analyse_confidence(input_dir=\"/d/user6/tl003/thesis/hsv1_prediction\", df=df, scale=True, prediction=\"hsv1\")\n",
    "os.chdir(\"/d/user6/tl003/thesis\")\n",
    "print(df)"
   ]
  },
  {
   "cell_type": "code",
   "execution_count": 23,
   "metadata": {},
   "outputs": [
    {
     "name": "stdout",
     "output_type": "stream",
     "text": [
      "       ID                                           Sequence  Seq Length  \\\n",
      "0    g001  MKKNVCVITERDVVLAKRRKGCKLQTDVDVALTEMNNIRFDFRVII...          90   \n",
      "1    g002  MKILKATNPRWFAQSNSTFSKFAIRGATEVLSDWMDNAFSAFCQLY...          83   \n",
      "2    g003  MYITRRKKRFNTTVYYNIYLVPGKMLTVRDKNIYSVYKIFEKELDF...          82   \n",
      "3    g004  MKTIKARGFNKNKILDLTPIKETRRSAMDTLMRRILFIEVDISNHM...          72   \n",
      "4    g005  MKIVRISRKKDRDIGRLIIGHIFATYKELKGTLLFRYDYIGYKCKV...          62   \n",
      "..    ...                                                ...         ...   \n",
      "362  g363  MKTIRTIKHLPFDRYNEQMTKTFLLDQPISKIFMIRKDAEDFDNEN...          84   \n",
      "363  g364  MYISRTNEREMNFKRKSNPKTVREIYTNLLHDDFSLPKYKMYFGFE...          97   \n",
      "364  g365  MKALSIIDDEEREGSIRDYDYKILEPINEILEDLEEEIMISGIGVT...          75   \n",
      "365  g366  MRRLKGKVVGIDNLLRWDRQWGGRMWLEGSAFNDYDVLFKDTVLEF...          74   \n",
      "366  g367  MKIKKFKMKYEYVYHDWLQQNAEEIIWGYQLIKIDPRHFSDIKVEI...          61   \n",
      "\n",
      "     Mean pLDDT: monomer  Mean pLDDT: hsv1  ...hsv1 only  ...without hsv1  \\\n",
      "0              29.472766         72.567981     89.814297        28.374295   \n",
      "1              35.307033         77.073883     92.056570        34.237626   \n",
      "2              40.482642         73.749332     90.250509        29.769018   \n",
      "3              38.999332         69.641599     82.202024        29.234357   \n",
      "4              41.329962         74.032256     83.740877        38.054346   \n",
      "..                   ...               ...           ...              ...   \n",
      "362            29.116841         77.385287     91.724100        39.273710   \n",
      "363            31.088190         67.136276     83.708412        28.333718   \n",
      "364            35.694706         74.906940     86.214458        39.303039   \n",
      "365            33.168126         68.810079     82.512221        26.154136   \n",
      "366            35.540289         72.681787     83.745205        31.604316   \n",
      "\n",
      "     Mean pLDDT: ye  ...ye only  ...without ye  \n",
      "0         67.589730   85.087454      25.730146  \n",
      "1         73.096025   88.595314      31.726261  \n",
      "2         70.606598   85.593908      33.314523  \n",
      "3         70.407556   83.773280      30.265760  \n",
      "4         74.352824   86.105036      33.694692  \n",
      "..              ...         ...            ...  \n",
      "362       72.653316   89.331095      31.269421  \n",
      "363       66.811895   84.681679      27.750243  \n",
      "364       70.191535   84.091740      29.331291  \n",
      "365       70.803896   83.899561      32.743958  \n",
      "366       72.419543   85.071662      28.563738  \n",
      "\n",
      "[367 rows x 10 columns]\n"
     ]
    }
   ],
   "source": [
    "#analysing confidence data output of ye predictions\n",
    "#again, may need to run in batches\n",
    "ung.analyse_confidence(input_dir=\"/d/user6/tl003/thesis/ye_prediction\", df=df, scale=True, prediction=\"ye\")\n",
    "os.chdir(\"/d/user6/tl003/thesis\")\n",
    "print(df)"
   ]
  },
  {
   "cell_type": "code",
   "execution_count": 26,
   "metadata": {},
   "outputs": [],
   "source": [
    "#storing all data\n",
    "df.to_csv(\"filter1.csv\", index=False)"
   ]
  },
  {
   "cell_type": "code",
   "execution_count": 36,
   "metadata": {},
   "outputs": [
    {
     "data": {
      "image/png": "[encoded data removed]",
      "text/plain": [
       "<Figure size 640x480 with 1 Axes>"
      ]
     },
     "metadata": {},
     "output_type": "display_data"
    }
   ],
   "source": [
    "to_boxplot = df.iloc[:,[3,8,9]]\n",
    "ax=sns.boxplot(to_boxplot)\n",
    "ax.set(ylabel='Mean pLDDT',xticklabels=['Monomer','Complex:UDG','Complex:phage protein'])\n",
    "plt.show()\n",
    "plt.close()"
   ]
  },
  {
   "cell_type": "markdown",
   "metadata": {},
   "source": [
    "## Structure alignment: similarity filter"
   ]
  },
  {
   "cell_type": "code",
   "execution_count": 50,
   "metadata": {},
   "outputs": [
    {
     "name": "stdout",
     "output_type": "stream",
     "text": [
      "       Aligned length        RMSD       SeqID     TMScore\n",
      "count      824.000000  824.000000  824.000000  824.000000\n",
      "mean        46.354369    3.703932    0.073885    0.352559\n",
      "std         14.233964    0.901139    0.041982    0.080700\n",
      "min         14.000000    0.460000    0.000000    0.119780\n",
      "25%         37.000000    3.200000    0.045000    0.304513\n",
      "50%         46.000000    3.710000    0.070000    0.350795\n",
      "75%         55.000000    4.340000    0.098000    0.405210\n",
      "max         88.000000    5.620000    0.243000    0.577660\n",
      "       Aligned length       RMSD      SeqID    TMScore\n",
      "count       32.000000  32.000000  32.000000  32.000000\n",
      "mean        53.218750   3.194687   0.078406   0.523643\n",
      "std          6.690071   0.364877   0.038815   0.020086\n",
      "min         44.000000   2.510000   0.000000   0.502210\n",
      "25%         50.000000   2.950000   0.052250   0.510840\n",
      "50%         51.500000   3.140000   0.079000   0.517085\n",
      "75%         56.000000   3.405000   0.098750   0.524905\n",
      "max         79.000000   4.230000   0.167000   0.577660\n"
     ]
    }
   ],
   "source": [
    "#second filter = structural similarity to known UngIns\n",
    "#performed with tm-align local install\n",
    "#bash align_structures.sh -a tm -t template -q predicted_structures -o tmalign_output_1.txt\n",
    "\n",
    "tm = pd.read_csv('uploads/tmalign_output_1.txt')\n",
    "tm = tm.sort_values('TMScore',ascending=False)\n",
    "tm_filt=tm[tm['TMScore'] > 0.5].reset_index(drop=True)\n",
    "print(tm.describe())\n",
    "print(tm_filt.describe())\n",
    "ung.plot_tm(df=tm, filename=\"monomer_prediction/plots/TM\")"
   ]
  },
  {
   "cell_type": "code",
   "execution_count": 39,
   "metadata": {},
   "outputs": [
    {
     "name": "stdout",
     "output_type": "stream",
     "text": [
      "   Template Query  Aligned length  RMSD  SeqID  TMScore\n",
      "4    6XQI_A  g059              57  3.70  0.053  0.55501\n",
      "8    6XQI_A  g078              54  3.29  0.037  0.52394\n",
      "15   6XQI_A  g087              60  3.40  0.050  0.51735\n",
      "18   6XQI_A  g089              51  3.14  0.137  0.51590\n",
      "0   8AIL_CF  g096              52  2.92  0.000  0.57766\n",
      "1    6XQI_A  g102              56  3.30  0.054  0.57498\n",
      "12   6XQI_A  g124              55  3.43  0.073  0.52053\n",
      "23   6XQI_A  g144              55  3.60  0.127  0.51104\n",
      "22  8AIL_CF  g149              50  2.88  0.080  0.51149\n",
      "6    6XQI_A  g154              57  3.36  0.088  0.53085\n",
      "28   6XQI_A  g163              51  2.76  0.098  0.50781\n",
      "27   6XQI_A  g167              57  3.74  0.088  0.50857\n",
      "20   6XQI_A  g174              51  3.50  0.118  0.51444\n",
      "13   8AIM_A  g176              67  3.36  0.090  0.51901\n",
      "5    6XQI_A  g178              56  3.22  0.071  0.53674\n",
      "30   8AIM_A  g194              79  4.23  0.101  0.50423\n",
      "10   6XQI_A  g195              46  2.51  0.022  0.52128\n",
      "26   6XQI_A  g199              50  3.04  0.120  0.50885\n",
      "25   6XQI_A  g205              54  2.99  0.167  0.50959\n",
      "16   6XQI_A  g218              51  3.05  0.059  0.51682\n",
      "11  8AIL_CF  g228              47  3.01  0.149  0.52103\n",
      "17   6XQI_A  g234              53  3.42  0.038  0.51668\n",
      "21   6XQI_A  g243              46  3.00  0.043  0.51275\n",
      "7   8AIL_CF  g251              51  3.11  0.078  0.52780\n",
      "3   8AIL_CF  g252              48  2.96  0.083  0.55684\n",
      "31   6XQI_A  g270              58  3.74  0.069  0.50221\n",
      "14   6XQI_A  g289              52  3.14  0.019  0.51782\n",
      "2   8AIL_CF  g296              50  2.80  0.120  0.56244\n",
      "29   6XQI_A  g305              44  2.70  0.068  0.50507\n",
      "24   6XQI_A  g311              48  2.86  0.083  0.51024\n",
      "19  8AIL_CF  g316              46  2.81  0.087  0.51447\n",
      "9    6XQI_A  g331              51  3.26  0.039  0.52312\n"
     ]
    }
   ],
   "source": [
    "print(tm_filt.sort_values('Query'))"
   ]
  },
  {
   "cell_type": "code",
   "execution_count": 3,
   "metadata": {},
   "outputs": [],
   "source": [
    "#known UngIns compared to each other\n",
    "#bash align_structures.sh -a tm -t template -q template -o tmalign_output_2.txt\n",
    "tm = pd.read_csv('uploads/tmalign_output_2.txt')\n",
    "ung.plot_template_comp(df=tm,filename=\"monomer_prediction/plots/template_comp\",templates=[\"8AIM_A\", \"8AIN_B\", \"8AIL_CF\", \"6XQI_A\"])"
   ]
  },
  {
   "cell_type": "code",
   "execution_count": 52,
   "metadata": {},
   "outputs": [
    {
     "name": "stdout",
     "output_type": "stream",
     "text": [
      "     Template Query  Aligned length  RMSD  SeqID  TMScore\n",
      "832   8AIN_AB  g337             215  1.32  0.502  0.64489\n",
      "407  8AIL_BCF  g329             219  1.37  0.516  0.64527\n",
      "395  8AIL_BCF  g307             219  1.35  0.516  0.64611\n",
      "389  8AIL_BCF  g301             219  1.35  0.516  0.64618\n",
      "229  8AIL_BCF  g077             219  1.35  0.516  0.64625\n",
      "..        ...   ...             ...   ...    ...      ...\n",
      "24    5JK7_GH  g084             258  2.87  0.484  0.79072\n",
      "61    5JK7_GH  g145             261  3.01  0.475  0.79453\n",
      "64    5JK7_GH  g149             261  2.86  0.471  0.79828\n",
      "108   5JK7_GH  g208             267  3.13  0.457  0.80490\n",
      "136   5JK7_GH  g244             270  3.26  0.474  0.80492\n",
      "\n",
      "[836 rows x 6 columns]\n"
     ]
    }
   ],
   "source": [
    "#complex structures\n",
    "#Ung prediction checked against 2 different Ungs\n",
    "tm = pd.read_csv('uploads/ye_output.txt')\n",
    "print(tm.sort_values('TMScore'))\n",
    "ung.plot_tm(df=tm, filename=\"ye_prediction/plots/TM\")"
   ]
  },
  {
   "cell_type": "code",
   "execution_count": 44,
   "metadata": {},
   "outputs": [
    {
     "data": {
      "text/html": [
       "<div>\n",
       "<style scoped>\n",
       "    .dataframe tbody tr th:only-of-type {\n",
       "        vertical-align: middle;\n",
       "    }\n",
       "\n",
       "    .dataframe tbody tr th {\n",
       "        vertical-align: top;\n",
       "    }\n",
       "\n",
       "    .dataframe thead th {\n",
       "        text-align: right;\n",
       "    }\n",
       "</style>\n",
       "<table border=\"1\" class=\"dataframe\">\n",
       "  <thead>\n",
       "    <tr style=\"text-align: right;\">\n",
       "      <th></th>\n",
       "      <th>Aligned length</th>\n",
       "      <th>RMSD</th>\n",
       "      <th>SeqID</th>\n",
       "      <th>TMScore</th>\n",
       "    </tr>\n",
       "  </thead>\n",
       "  <tbody>\n",
       "    <tr>\n",
       "      <th>count</th>\n",
       "      <td>836.000000</td>\n",
       "      <td>836.000000</td>\n",
       "      <td>836.000000</td>\n",
       "      <td>836.000000</td>\n",
       "    </tr>\n",
       "    <tr>\n",
       "      <th>mean</th>\n",
       "      <td>235.930622</td>\n",
       "      <td>2.279055</td>\n",
       "      <td>0.484880</td>\n",
       "      <td>0.705737</td>\n",
       "    </tr>\n",
       "    <tr>\n",
       "      <th>std</th>\n",
       "      <td>16.475784</td>\n",
       "      <td>0.777914</td>\n",
       "      <td>0.037807</td>\n",
       "      <td>0.038165</td>\n",
       "    </tr>\n",
       "    <tr>\n",
       "      <th>min</th>\n",
       "      <td>215.000000</td>\n",
       "      <td>1.190000</td>\n",
       "      <td>0.399000</td>\n",
       "      <td>0.644890</td>\n",
       "    </tr>\n",
       "    <tr>\n",
       "      <th>25%</th>\n",
       "      <td>218.000000</td>\n",
       "      <td>1.400000</td>\n",
       "      <td>0.455000</td>\n",
       "      <td>0.682567</td>\n",
       "    </tr>\n",
       "    <tr>\n",
       "      <th>50%</th>\n",
       "      <td>239.000000</td>\n",
       "      <td>2.480000</td>\n",
       "      <td>0.489000</td>\n",
       "      <td>0.706915</td>\n",
       "    </tr>\n",
       "    <tr>\n",
       "      <th>75%</th>\n",
       "      <td>249.000000</td>\n",
       "      <td>2.940000</td>\n",
       "      <td>0.504000</td>\n",
       "      <td>0.735510</td>\n",
       "    </tr>\n",
       "    <tr>\n",
       "      <th>max</th>\n",
       "      <td>279.000000</td>\n",
       "      <td>4.050000</td>\n",
       "      <td>0.560000</td>\n",
       "      <td>0.804920</td>\n",
       "    </tr>\n",
       "  </tbody>\n",
       "</table>\n",
       "</div>"
      ],
      "text/plain": [
       "       Aligned length        RMSD       SeqID     TMScore\n",
       "count      836.000000  836.000000  836.000000  836.000000\n",
       "mean       235.930622    2.279055    0.484880    0.705737\n",
       "std         16.475784    0.777914    0.037807    0.038165\n",
       "min        215.000000    1.190000    0.399000    0.644890\n",
       "25%        218.000000    1.400000    0.455000    0.682567\n",
       "50%        239.000000    2.480000    0.489000    0.706915\n",
       "75%        249.000000    2.940000    0.504000    0.735510\n",
       "max        279.000000    4.050000    0.560000    0.804920"
      ]
     },
     "execution_count": 44,
     "metadata": {},
     "output_type": "execute_result"
    }
   ],
   "source": [
    "#complex structures\n",
    "#Ung prediction checked against 2 different Ungs\n",
    "tm = pd.read_csv('uploads/ye_output.txt')\n",
    "tm.describe()"
   ]
  },
  {
   "cell_type": "code",
   "execution_count": null,
   "metadata": {},
   "outputs": [],
   "source": []
  }
 ],
 "metadata": {
  "kernelspec": {
   "display_name": "Python(Python 3)",
   "language": "python",
   "name": "python3"
  },
  "language_info": {
   "codemirror_mode": {
    "name": "ipython",
    "version": 3
   },
   "file_extension": ".py",
   "mimetype": "text/x-python",
   "name": "python",
   "nbconvert_exporter": "python",
   "pygments_lexer": "ipython3",
   "version": "3.8.5"
  }
 },
 "nbformat": 4,
 "nbformat_minor": 4
}
