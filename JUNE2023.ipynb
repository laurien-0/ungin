{
 "cells": [
  {
   "cell_type": "markdown",
   "metadata": {},
   "source": [
    "# Yersinia phage Phi R1-37"
   ]
  },
  {
   "cell_type": "markdown",
   "metadata": {},
   "source": [
    "Stages of analysis are presented as were performed with the Yersinia phage"
   ]
  },
  {
   "cell_type": "code",
   "execution_count": 1,
   "metadata": {},
   "outputs": [],
   "source": [
    "#required imports\n",
    "import os\n",
    "import pathlib\n",
    "import re\n",
    "\n",
    "import numpy as np\n",
    "import pandas as pd\n",
    "\n",
    "import Bio.SeqIO as SeqIO\n",
    "import Bio.SeqUtils.ProtParam as bp\n",
    "\n",
    "import matplotlib.pyplot as plt\n",
    "import seaborn as sns\n",
    "\n",
    "import ungin_functions as ung"
   ]
  },
  {
   "cell_type": "code",
   "execution_count": 2,
   "metadata": {},
   "outputs": [],
   "source": [
    "os.chdir(\"/d/user6/tl003/thesis\")"
   ]
  },
  {
   "cell_type": "code",
   "execution_count": 3,
   "metadata": {},
   "outputs": [
    {
     "name": "stdout",
     "output_type": "stream",
     "text": [
      "       ID                                           Sequence  Seq Length\n",
      "0    g001  MKKNVCVITERDVVLAKRRKGCKLQTDVDVALTEMNNIRFDFRVII...          90\n",
      "1    g002  MKILKATNPRWFAQSNSTFSKFAIRGATEVLSDWMDNAFSAFCQLY...          83\n",
      "2    g003  MYITRRKKRFNTTVYYNIYLVPGKMLTVRDKNIYSVYKIFEKELDF...          82\n",
      "3    g004  MKTIKARGFNKNKILDLTPIKETRRSAMDTLMRRILFIEVDISNHM...          72\n",
      "4    g005  MKIVRISRKKDRDIGRLIIGHIFATYKELKGTLLFRYDYIGYKCKV...          62\n",
      "..    ...                                                ...         ...\n",
      "362  g363  MKTIRTIKHLPFDRYNEQMTKTFLLDQPISKIFMIRKDAEDFDNEN...          84\n",
      "363  g364  MYISRTNEREMNFKRKSNPKTVREIYTNLLHDDFSLPKYKMYFGFE...          97\n",
      "364  g365  MKALSIIDDEEREGSIRDYDYKILEPINEILEDLEEEIMISGIGVT...          75\n",
      "365  g366  MRRLKGKVVGIDNLLRWDRQWGGRMWLEGSAFNDYDVLFKDTVLEF...          74\n",
      "366  g367  MKIKKFKMKYEYVYHDWLQQNAEEIIWGYQLIKIDPRHFSDIKVEI...          61\n",
      "\n",
      "[367 rows x 3 columns]\n"
     ]
    }
   ],
   "source": [
    "#storing proteomes of uracil-DNA phages\n",
    "genome = \"phages/phir1-37.gb\"\n",
    "df = ung.parse_uracil_genome(genome=genome)\n",
    "print(df)"
   ]
  },
  {
   "cell_type": "code",
   "execution_count": 4,
   "metadata": {},
   "outputs": [],
   "source": [
    "#generating fasta file storing all sequences\n",
    "ung.write_df_to_fasta(df=df, output_file=\"uploads/all_seqs.fasta\")"
   ]
  },
  {
   "cell_type": "code",
   "execution_count": 11,
   "metadata": {},
   "outputs": [
    {
     "name": "stdout",
     "output_type": "stream",
     "text": [
      "       ID  BLAST_evalues  BLAST_seqids\n",
      "48   g049   1.000000e-29         37.56\n",
      "130  g131   3.000000e-06         39.44\n",
      "141  g142   2.000000e-10         39.56\n",
      "193  g194   3.000000e-60         35.03\n",
      "212  g213   5.000000e-25         41.36\n",
      "260  g261  4.000000e-105         36.76\n",
      "273  g274   5.000000e-58         36.54\n",
      "297  g298   4.000000e-10         43.24\n",
      "308  g309   9.000000e-09         43.48\n",
      "310  g311   2.000000e-50         37.60\n",
      "326  g327   1.000000e-10         43.06\n"
     ]
    }
   ],
   "source": [
    "#BLAST search performed with PDB blastp to identify any proteins with close homologs\n",
    "#parsing BLAST output\n",
    "df_blasthits = ung.parse_blast_output(df=df, input_file=\"uploads/blast_output.txt\")\n",
    "print(df_blasthits)"
   ]
  },
  {
   "cell_type": "markdown",
   "metadata": {},
   "source": [
    "## Structure prediction of protein sequences"
   ]
  },
  {
   "cell_type": "code",
   "execution_count": null,
   "metadata": {},
   "outputs": [],
   "source": [
    "#monomer prediction using esm_fold\n",
    "#note that only 363 out of 367 were able to be analysed\n",
    "#those missing are g083, g099, g294, g295"
   ]
  },
  {
   "cell_type": "code",
   "execution_count": 7,
   "metadata": {},
   "outputs": [
    {
     "name": "stdout",
     "output_type": "stream",
     "text": [
      "       ID                                           Sequence  Seq Length  \\\n",
      "0    g001  MKKNVCVITERDVVLAKRRKGCKLQTDVDVALTEMNNIRFDFRVII...          90   \n",
      "1    g002  MKILKATNPRWFAQSNSTFSKFAIRGATEVLSDWMDNAFSAFCQLY...          83   \n",
      "2    g003  MYITRRKKRFNTTVYYNIYLVPGKMLTVRDKNIYSVYKIFEKELDF...          82   \n",
      "3    g004  MKTIKARGFNKNKILDLTPIKETRRSAMDTLMRRILFIEVDISNHM...          72   \n",
      "4    g005  MKIVRISRKKDRDIGRLIIGHIFATYKELKGTLLFRYDYIGYKCKV...          62   \n",
      "..    ...                                                ...         ...   \n",
      "362  g363  MKTIRTIKHLPFDRYNEQMTKTFLLDQPISKIFMIRKDAEDFDNEN...          84   \n",
      "363  g364  MYISRTNEREMNFKRKSNPKTVREIYTNLLHDDFSLPKYKMYFGFE...          97   \n",
      "364  g365  MKALSIIDDEEREGSIRDYDYKILEPINEILEDLEEEIMISGIGVT...          75   \n",
      "365  g366  MRRLKGKVVGIDNLLRWDRQWGGRMWLEGSAFNDYDVLFKDTVLEF...          74   \n",
      "366  g367  MKIKKFKMKYEYVYHDWLQQNAEEIIWGYQLIKIDPRHFSDIKVEI...          61   \n",
      "\n",
      "    Mean pLLDT  \n",
      "0         None  \n",
      "1         None  \n",
      "2         None  \n",
      "3         None  \n",
      "4         None  \n",
      "..         ...  \n",
      "362       None  \n",
      "363       None  \n",
      "364       None  \n",
      "365       None  \n",
      "366       None  \n",
      "\n",
      "[367 rows x 4 columns]\n"
     ]
    }
   ],
   "source": [
    "#first filter = confidence of predicted structure\n",
    "\n",
    "#analysing confidence data output\n",
    "ung.analyse_confidence(input_dir=\"/d/user6/tl003/thesis/monomer_prediction\", df=df, scale=False)\n",
    "os.chdir(\"/d/user6/tl003/thesis\")\n",
    "print(df)\n",
    "\n",
    "#predictions were divided into 3 categories manually\n",
    "#category 1: mean pLDDT > 50%\n",
    "#category 2: mean pLDDT > 35%, with stretches > 60%, and length >~ 100\n",
    "#category 3: remaining structures filtered out by this step\n",
    "#split = 152, 54, 157"
   ]
  },
  {
   "cell_type": "code",
   "execution_count": 2,
   "metadata": {},
   "outputs": [
    {
     "name": "stdout",
     "output_type": "stream",
     "text": [
      "       Aligned length        RMSD       SeqID     TMScore\n",
      "count      824.000000  824.000000  824.000000  824.000000\n",
      "mean        46.354369    3.703932    0.073885    0.352559\n",
      "std         14.233964    0.901139    0.041982    0.080700\n",
      "min         14.000000    0.460000    0.000000    0.119780\n",
      "25%         37.000000    3.200000    0.045000    0.304513\n",
      "50%         46.000000    3.710000    0.070000    0.350795\n",
      "75%         55.000000    4.340000    0.098000    0.405210\n",
      "max         88.000000    5.620000    0.243000    0.577660\n",
      "       Aligned length       RMSD      SeqID    TMScore\n",
      "count       32.000000  32.000000  32.000000  32.000000\n",
      "mean        53.218750   3.194687   0.078406   0.523643\n",
      "std          6.690071   0.364877   0.038815   0.020086\n",
      "min         44.000000   2.510000   0.000000   0.502210\n",
      "25%         50.000000   2.950000   0.052250   0.510840\n",
      "50%         51.500000   3.140000   0.079000   0.517085\n",
      "75%         56.000000   3.405000   0.098750   0.524905\n",
      "max         79.000000   4.230000   0.167000   0.577660\n"
     ]
    }
   ],
   "source": [
    "#second filter = structural similarity to known UngIns\n",
    "#performed with tm-align local install\n",
    "#bash tmalign_structures.sh -t template -q predicted_structures -o tmalign_output_1.txt\n",
    "\n",
    "tm = pd.read_csv('uploads/tmalign_output_1.txt')\n",
    "tm = tm.sort_values('TMScore',ascending=False)\n",
    "tm_filt=tm[tm['TMScore'] > 0.5].reset_index(drop=True)\n",
    "print(tm.describe())\n",
    "print(tm_filt.describe())\n",
    "ung.plot_tm(df=tm, filename=\"TM\")"
   ]
  },
  {
   "cell_type": "code",
   "execution_count": 3,
   "metadata": {},
   "outputs": [],
   "source": [
    "#known UngIns compared to each other\n",
    "#bash tmalign_structures.sh -t template -q template -o tmalign_output_2.txt\n",
    "tm = pd.read_csv('uploads/tmalign_output_2.txt')\n",
    "ung.plot_template_comp(df=tm,filename=\"template_comp\",templates=[\"8AIM_A\", \"8AIN_B\", \"8AIL_CF\", \"6XQI_A\"])"
   ]
  },
  {
   "cell_type": "code",
   "execution_count": null,
   "metadata": {},
   "outputs": [],
   "source": []
  }
 ],
 "metadata": {
  "kernelspec": {
   "display_name": "Python(Python 3)",
   "language": "python",
   "name": "python3"
  },
  "language_info": {
   "codemirror_mode": {
    "name": "ipython",
    "version": 3
   },
   "file_extension": ".py",
   "mimetype": "text/x-python",
   "name": "python",
   "nbconvert_exporter": "python",
   "pygments_lexer": "ipython3",
   "version": "3.8.5"
  }
 },
 "nbformat": 4,
 "nbformat_minor": 4
}
