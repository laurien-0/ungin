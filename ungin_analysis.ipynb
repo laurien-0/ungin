{
 "cells": [
  {
   "cell_type": "markdown",
   "metadata": {},
   "source": [
    "# Yersinia phage Phi R1-37"
   ]
  },
  {
   "cell_type": "markdown",
   "metadata": {},
   "source": [
    "Stages of analysis are presented as were performed with the Yersinia phage"
   ]
  },
  {
   "cell_type": "code",
   "execution_count": 2,
   "metadata": {},
   "outputs": [],
   "source": [
    "#required imports\n",
    "import os\n",
    "import pathlib\n",
    "import re\n",
    "\n",
    "import numpy as np\n",
    "import pandas as pd\n",
    "\n",
    "import Bio.SeqIO as SeqIO\n",
    "import Bio.SeqUtils.ProtParam as bp\n",
    "\n",
    "import matplotlib.pyplot as plt\n",
    "import seaborn as sns\n",
    "\n",
    "import ungin_functions as ung"
   ]
  },
  {
   "cell_type": "code",
   "execution_count": 3,
   "metadata": {},
   "outputs": [
    {
     "name": "stdout",
     "output_type": "stream",
     "text": [
      "       ID                                           Sequence  Seq Length\n",
      "0    g001  MKKNVCVITERDVVLAKRRKGCKLQTDVDVALTEMNNIRFDFRVII...          90\n",
      "1    g002  MKILKATNPRWFAQSNSTFSKFAIRGATEVLSDWMDNAFSAFCQLY...          83\n",
      "2    g003  MYITRRKKRFNTTVYYNIYLVPGKMLTVRDKNIYSVYKIFEKELDF...          82\n",
      "3    g004  MKTIKARGFNKNKILDLTPIKETRRSAMDTLMRRILFIEVDISNHM...          72\n",
      "4    g005  MKIVRISRKKDRDIGRLIIGHIFATYKELKGTLLFRYDYIGYKCKV...          62\n",
      "..    ...                                                ...         ...\n",
      "362  g363  MKTIRTIKHLPFDRYNEQMTKTFLLDQPISKIFMIRKDAEDFDNEN...          84\n",
      "363  g364  MYISRTNEREMNFKRKSNPKTVREIYTNLLHDDFSLPKYKMYFGFE...          97\n",
      "364  g365  MKALSIIDDEEREGSIRDYDYKILEPINEILEDLEEEIMISGIGVT...          75\n",
      "365  g366  MRRLKGKVVGIDNLLRWDRQWGGRMWLEGSAFNDYDVLFKDTVLEF...          74\n",
      "366  g367  MKIKKFKMKYEYVYHDWLQQNAEEIIWGYQLIKIDPRHFSDIKVEI...          61\n",
      "\n",
      "[367 rows x 3 columns]\n"
     ]
    }
   ],
   "source": [
    "#storing proteomes of uracil-DNA phages\n",
    "genome = \"phages/phir1-37.gb\"\n",
    "df = ung.parse_uracil_genome(genome=genome)\n",
    "print(df)"
   ]
  },
  {
   "cell_type": "code",
   "execution_count": 4,
   "metadata": {},
   "outputs": [],
   "source": [
    "#generating fasta file storing all sequences\n",
    "ung.write_df_to_fasta(df=df, output_file=\"uploads/all_seqs.fasta\")"
   ]
  },
  {
   "cell_type": "markdown",
   "metadata": {},
   "source": [
    "## Structure prediction: confidence filter"
   ]
  },
  {
   "cell_type": "code",
   "execution_count": null,
   "metadata": {},
   "outputs": [],
   "source": [
    "#monomer prediction using esm_fold\n",
    "#note that only 363 out of 367 were able to be analysed\n",
    "#those missing are g083, g099, g294, g295"
   ]
  },
  {
   "cell_type": "code",
   "execution_count": 4,
   "metadata": {},
   "outputs": [],
   "source": [
    "#complex prediction using esm_fold\n",
    "#generating required fasta file\n",
    "with open('uploads/all_seqs.fasta','r') as f:\n",
    "    scraped_text = f.readlines()\n",
    "i = 0\n",
    "with open('uploads/ye_mult.fasta',\"w\") as g:\n",
    "    for line in scraped_text:\n",
    "        if i % 2 == 0:\n",
    "            g.write(line)\n",
    "        else:\n",
    "            g.write(f'MPASLTWHDVIGQEKEQPYFKDTLAYVAAERNAGKTIYPAQHDVFNAFRLTELDQVKVVILGQDPYHGPNQAHGLSFSVLPGVPAPPSLVNIYKELATDIPGFQRPNHGFLQSWAEQGVLLLNTVLTVEAGNAHSHANLGWETFTDKVIAALNEHRDGVIFMLWGAHAQKKGRIIDTQRHFILKAPHPSPLSAHRGFLGCKHFSQANQLLQQHGQQPIDWQPKLPTAE:{line}')\n",
    "        i+=1\n",
    "#note that only 356 out of 367 were able to be analysed due to lack of available memory on Colab\n",
    "#those missing were the 4 missing from monomer prediction, also g061, g070, g160, g196, g207, g234 and g296"
   ]
  },
  {
   "cell_type": "code",
   "execution_count": null,
   "metadata": {},
   "outputs": [],
   "source": [
    "#first filter = confidence of predicted structure\n",
    "#analysing confidence data output of monomer predictions\n",
    "ung.analyse_confidence(input_dir=\"/d/user6/tl003/thesis/monomer_prediction\", df=df, scale=True, prediction=\"monomer\")\n",
    "os.chdir(\"/d/user6/tl003/thesis\")"
   ]
  },
  {
   "cell_type": "code",
   "execution_count": null,
   "metadata": {},
   "outputs": [],
   "source": [
    "#analysing confidence data output of ye predictions\n",
    "#again, may need to run in batches\n",
    "ung.analyse_confidence(input_dir=\"/d/user6/tl003/thesis/ye_prediction\", df=df, scale=True, prediction=\"ye\")\n",
    "os.chdir(\"/d/user6/tl003/thesis\")"
   ]
  },
  {
   "cell_type": "code",
   "execution_count": 7,
   "metadata": {},
   "outputs": [
    {
     "name": "stdout",
     "output_type": "stream",
     "text": [
      "       ID                                           Sequence  Seq Length  \\\n",
      "0    g001  MKKNVCVITERDVVLAKRRKGCKLQTDVDVALTEMNNIRFDFRVII...          90   \n",
      "1    g002  MKILKATNPRWFAQSNSTFSKFAIRGATEVLSDWMDNAFSAFCQLY...          83   \n",
      "2    g003  MYITRRKKRFNTTVYYNIYLVPGKMLTVRDKNIYSVYKIFEKELDF...          82   \n",
      "3    g004  MKTIKARGFNKNKILDLTPIKETRRSAMDTLMRRILFIEVDISNHM...          72   \n",
      "4    g005  MKIVRISRKKDRDIGRLIIGHIFATYKELKGTLLFRYDYIGYKCKV...          62   \n",
      "..    ...                                                ...         ...   \n",
      "362  g363  MKTIRTIKHLPFDRYNEQMTKTFLLDQPISKIFMIRKDAEDFDNEN...          84   \n",
      "363  g364  MYISRTNEREMNFKRKSNPKTVREIYTNLLHDDFSLPKYKMYFGFE...          97   \n",
      "364  g365  MKALSIIDDEEREGSIRDYDYKILEPINEILEDLEEEIMISGIGVT...          75   \n",
      "365  g366  MRRLKGKVVGIDNLLRWDRQWGGRMWLEGSAFNDYDVLFKDTVLEF...          74   \n",
      "366  g367  MKIKKFKMKYEYVYHDWLQQNAEEIIWGYQLIKIDPRHFSDIKVEI...          61   \n",
      "\n",
      "     Mean pLDDT: monomer  Mean pLDDT: ye  ...ye only  ...without ye  \n",
      "0              29.472766       67.589730   85.087454      25.730146  \n",
      "1              35.307033       73.096025   88.595314      31.726261  \n",
      "2              40.482642       70.606598   85.593908      33.314523  \n",
      "3              38.999332       70.407556   83.773280      30.265760  \n",
      "4              41.329962       74.352824   86.105036      33.694692  \n",
      "..                   ...             ...         ...            ...  \n",
      "362            29.116841       72.653316   89.331095      31.269421  \n",
      "363            31.088190       66.811895   84.681679      27.750243  \n",
      "364            35.694706       70.191535   84.091740      29.331291  \n",
      "365            33.168126       70.803896   83.899561      32.743958  \n",
      "366            35.540289       72.419543   85.071662      28.563738  \n",
      "\n",
      "[367 rows x 7 columns]\n"
     ]
    }
   ],
   "source": [
    "#storing all data\n",
    "df.to_csv(\"filter1.csv\", index=False)\n",
    "print(df)"
   ]
  },
  {
   "cell_type": "markdown",
   "metadata": {},
   "source": [
    "## Structure alignment: similarity filter"
   ]
  },
  {
   "cell_type": "code",
   "execution_count": 3,
   "metadata": {},
   "outputs": [
    {
     "name": "stdout",
     "output_type": "stream",
     "text": [
      "       Aligned length        RMSD       SeqID     TMScore\n",
      "count      824.000000  824.000000  824.000000  824.000000\n",
      "mean        46.354369    3.703932    0.073885    0.352559\n",
      "std         14.233964    0.901139    0.041982    0.080700\n",
      "min         14.000000    0.460000    0.000000    0.119780\n",
      "25%         37.000000    3.200000    0.045000    0.304513\n",
      "50%         46.000000    3.710000    0.070000    0.350795\n",
      "75%         55.000000    4.340000    0.098000    0.405210\n",
      "max         88.000000    5.620000    0.243000    0.577660\n",
      "       Aligned length       RMSD      SeqID    TMScore\n",
      "count       32.000000  32.000000  32.000000  32.000000\n",
      "mean        53.218750   3.194687   0.078406   0.523643\n",
      "std          6.690071   0.364877   0.038815   0.020086\n",
      "min         44.000000   2.510000   0.000000   0.502210\n",
      "25%         50.000000   2.950000   0.052250   0.510840\n",
      "50%         51.500000   3.140000   0.079000   0.517085\n",
      "75%         56.000000   3.405000   0.098750   0.524905\n",
      "max         79.000000   4.230000   0.167000   0.577660\n"
     ]
    }
   ],
   "source": [
    "#second filter = structural similarity to known UngIns\n",
    "#performed with tm-align local install\n",
    "#bash align_structures.sh -a tm -t template -q predicted_structures -o tmalign_output_1.txt\n",
    "\n",
    "tm = pd.read_csv('uploads/tmalign_output_1.txt')\n",
    "tm = tm.sort_values('TMScore',ascending=False)\n",
    "tm_filt=tm[tm['TMScore'] > 0.5].reset_index(drop=True)\n",
    "print(tm.describe())\n",
    "print(tm_filt.describe())\n",
    "ung.plot_tm(df=tm, filename=\"monomer_prediction/plots/TM\")"
   ]
  },
  {
   "cell_type": "code",
   "execution_count": 4,
   "metadata": {},
   "outputs": [],
   "source": [
    "#known UngIns compared to each other\n",
    "#bash align_structures.sh -a tm -t template -q template -o tmalign_output_2.txt\n",
    "tm = pd.read_csv('uploads/tmalign_output_2.txt')\n",
    "ung.plot_template_comp(df=tm,filename=\"monomer_prediction/plots/template_comp\",templates=[\"8AIM_A\", \"8AIN_B\", \"8AIL_CF\", \"6XQI_A\"])"
   ]
  },
  {
   "cell_type": "code",
   "execution_count": 45,
   "metadata": {},
   "outputs": [
    {
     "name": "stdout",
     "output_type": "stream",
     "text": [
      "     Template Query  Aligned length  RMSD  SeqID  TMScore\n",
      "136   5JK7_GH  g244             270  3.26  0.474  0.80492\n",
      "108   5JK7_GH  g208             267  3.13  0.457  0.80490\n",
      "64    5JK7_GH  g149             261  2.86  0.471  0.79828\n",
      "61    5JK7_GH  g145             261  3.01  0.475  0.79453\n",
      "24    5JK7_GH  g084             258  2.87  0.484  0.79072\n",
      "..        ...   ...             ...   ...    ...      ...\n",
      "229  8AIL_BCF  g077             219  1.35  0.516  0.64625\n",
      "389  8AIL_BCF  g301             219  1.35  0.516  0.64618\n",
      "395  8AIL_BCF  g307             219  1.35  0.516  0.64611\n",
      "407  8AIL_BCF  g329             219  1.37  0.516  0.64527\n",
      "832   8AIN_AB  g337             215  1.32  0.502  0.64489\n",
      "\n",
      "[836 rows x 6 columns]\n"
     ]
    }
   ],
   "source": [
    "#complex structures\n",
    "tm = pd.read_csv('uploads/ye_output.txt')\n",
    "print(tm.sort_values('TMScore',ascending=False))\n",
    "ung.plot_tm(df=tm, filename=\"ye_prediction/plots/TM\")"
   ]
  },
  {
   "cell_type": "code",
   "execution_count": null,
   "metadata": {},
   "outputs": [],
   "source": []
  }
 ],
 "metadata": {
  "kernelspec": {
   "display_name": "Python(Python 3)",
   "language": "python",
   "name": "python3"
  },
  "language_info": {
   "codemirror_mode": {
    "name": "ipython",
    "version": 3
   },
   "file_extension": ".py",
   "mimetype": "text/x-python",
   "name": "python",
   "nbconvert_exporter": "python",
   "pygments_lexer": "ipython3",
   "version": "3.8.5"
  }
 },
 "nbformat": 4,
 "nbformat_minor": 4
}
